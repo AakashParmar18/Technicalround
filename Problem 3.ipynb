{
 "cells": [
  {
   "cell_type": "code",
   "execution_count": 1,
   "id": "03216808",
   "metadata": {},
   "outputs": [
    {
     "name": "stdout",
     "output_type": "stream",
     "text": [
      "Enter total numbers in array:5\n",
      "1\n",
      "2\n",
      "3\n",
      "4\n",
      "5\n",
      "The given array [1, 2, 3, 4, 5]\n",
      "The maximum number of array is  5\n",
      "The minimum number of array is  1\n"
     ]
    }
   ],
   "source": [
    "Array=[]\n",
    "N=int(input(\"Enter total numbers in array:\"))\n",
    "for i in range(0,N):\n",
    "    n=int(input())\n",
    "    Array.append(n)\n",
    "print(\"The given array\",Array)\n",
    "print(\"The maximum number of array is \",max(Array))\n",
    "print(\"The minimum number of array is \",min(Array))"
   ]
  },
  {
   "cell_type": "code",
   "execution_count": 2,
   "id": "b957fc9c",
   "metadata": {},
   "outputs": [
    {
     "name": "stdout",
     "output_type": "stream",
     "text": [
      "Enter total numbers in array:5\n",
      "5\n",
      "3\n",
      "7\n",
      "4\n",
      "2\n",
      "The given array [5, 3, 7, 4, 2]\n",
      "The maximum number of array is  7\n",
      "The minimum number of array is  2\n"
     ]
    }
   ],
   "source": [
    "Array=[]\n",
    "N=int(input(\"Enter total numbers in array:\"))\n",
    "for i in range(0,N):\n",
    "    n=int(input())\n",
    "    Array.append(n)\n",
    "print(\"The given array\",Array)\n",
    "print(\"The maximum number of array is \",max(Array))\n",
    "print(\"The minimum number of array is \",min(Array))"
   ]
  },
  {
   "cell_type": "code",
   "execution_count": null,
   "id": "d109b8ea",
   "metadata": {},
   "outputs": [],
   "source": []
  }
 ],
 "metadata": {
  "kernelspec": {
   "display_name": "Python 3 (ipykernel)",
   "language": "python",
   "name": "python3"
  },
  "language_info": {
   "codemirror_mode": {
    "name": "ipython",
    "version": 3
   },
   "file_extension": ".py",
   "mimetype": "text/x-python",
   "name": "python",
   "nbconvert_exporter": "python",
   "pygments_lexer": "ipython3",
   "version": "3.10.9"
  }
 },
 "nbformat": 4,
 "nbformat_minor": 5
}
